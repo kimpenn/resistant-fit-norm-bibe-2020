{
 "cells": [
  {
   "cell_type": "code",
   "execution_count": 1,
   "metadata": {},
   "outputs": [
    {
     "name": "stderr",
     "output_type": "stream",
     "text": [
      "/home/derek/miniconda3/envs/py-ds-scanpy-2/lib/python3.8/site-packages/anndata/core/anndata.py:17: FutureWarning: pandas.core.index is deprecated and will be removed in a future version.  The public classes are available in the top-level namespace.\n",
      "  from pandas.core.index import RangeIndex\n"
     ]
    }
   ],
   "source": [
    "import numpy as np\n",
    "import numpy.random as random\n",
    "import pandas as pd\n",
    "import scanpy as sc\n",
    "import anndata\n",
    "\n",
    "import torch \n",
    "from scvi.dataset.dataset import GeneExpressionDataset\n",
    "from scvi.inference import UnsupervisedTrainer\n",
    "from scvi.models import SCANVI, VAE\n",
    "from umap import UMAP\n",
    "\n",
    "PRJ_DIR = \"/home/derek/research/Kim-Lab/normalization-simulation/\"\n",
    "IN_DIR = PRJ_DIR + \"data/pbmc-33k/filtered_gene_bc_matrices/hg19/\"\n",
    "OUT_DIR = PRJ_DIR + \"exp/exp-12/out/\""
   ]
  },
  {
   "cell_type": "code",
   "execution_count": 3,
   "metadata": {},
   "outputs": [],
   "source": [
    "cm_barcodes = pd.read_csv(IN_DIR + \"barcodes.tsv\", header=None, sep='\\t')\n",
    "cm_barcodes.rename(columns={0:'barcode'}, inplace=True)\n",
    "cm_barcodes.set_index('barcode', inplace=True)"
   ]
  },
  {
   "cell_type": "code",
   "execution_count": 4,
   "metadata": {},
   "outputs": [],
   "source": [
    "cm_ann = sc.read_10x_mtx(IN_DIR, var_names='gene_symbols', cache=True)\n",
    "cm_ann.var_names_make_unique()  # this is unnecessary if using `var_names='gene_ids'` in `sc.read_10x_mtx`\n",
    "cm_ann.obs = cm_barcodes\n",
    "sc.pp.filter_genes(cm_ann, min_cells=5)"
   ]
  },
  {
   "cell_type": "code",
   "execution_count": 5,
   "metadata": {},
   "outputs": [
    {
     "name": "stdout",
     "output_type": "stream",
     "text": [
      "[2020-07-08 22:28:40,509] INFO - scvi.dataset.dataset | Remapping labels to [0,N]\n",
      "[2020-07-08 22:28:40,511] INFO - scvi.dataset.dataset | Remapping batch_indices to [0,N]\n",
      "[2020-07-08 22:28:40,928] INFO - scvi.dataset.dataset | Computing the library size for the new data\n",
      "[2020-07-08 22:28:40,979] INFO - scvi.dataset.dataset | Downsampled from 33148 to 33148 cells\n"
     ]
    }
   ],
   "source": [
    "from scvi.dataset import AnnDatasetFromAnnData\n",
    "cm = AnnDatasetFromAnnData(cm_ann)"
   ]
  },
  {
   "cell_type": "code",
   "execution_count": 8,
   "metadata": {},
   "outputs": [],
   "source": [
    "n_epochs = 400\n",
    "n_de = 4000"
   ]
  },
  {
   "cell_type": "code",
   "execution_count": 9,
   "metadata": {},
   "outputs": [
    {
     "name": "stdout",
     "output_type": "stream",
     "text": [
      "[2020-07-08 22:30:13,591] INFO - scvi.dataset.dataset | Not subsampling. Expecting: 1 < (new_n_genes=4000) <= self.nb_genes\n"
     ]
    }
   ],
   "source": [
    "cm.subsample_genes(n_de)"
   ]
  },
  {
   "cell_type": "code",
   "execution_count": 10,
   "metadata": {},
   "outputs": [],
   "source": [
    "use_cuda = True\n",
    "\n",
    "vae = VAE(cm.nb_genes, n_batch=0, n_labels=0,\n",
    "          n_hidden=128, n_layers=1, n_latent=10, dispersion='gene')\n",
    "\n",
    "trainer = UnsupervisedTrainer(\n",
    "    vae, cm,                               \n",
    "    train_size=1.0, \n",
    "    batch_size=128,\n",
    "    use_cuda=use_cuda,\n",
    "    n_epochs_kl_warmup=100,\n",
    "    frequency=5\n",
    ")"
   ]
  },
  {
   "cell_type": "code",
   "execution_count": 11,
   "metadata": {},
   "outputs": [
    {
     "name": "stdout",
     "output_type": "stream",
     "text": [
      "[2020-07-08 22:30:40,791] INFO - scvi.inference.inference | KL warmup for 100 epochs\n"
     ]
    },
    {
     "data": {
      "application/vnd.jupyter.widget-view+json": {
       "model_id": "085cfe347dd644dea78389a9356dfb35",
       "version_major": 2,
       "version_minor": 0
      },
      "text/plain": [
       "HBox(children=(FloatProgress(value=0.0, description='training', max=400.0, style=ProgressStyle(description_wid…"
      ]
     },
     "metadata": {},
     "output_type": "display_data"
    },
    {
     "name": "stdout",
     "output_type": "stream",
     "text": [
      "\n"
     ]
    }
   ],
   "source": [
    "trainer.train(n_epochs=n_epochs)"
   ]
  },
  {
   "cell_type": "code",
   "execution_count": 19,
   "metadata": {},
   "outputs": [
    {
     "data": {
      "text/plain": [
       "[<matplotlib.lines.Line2D at 0x7effac4e0280>]"
      ]
     },
     "execution_count": 19,
     "metadata": {},
     "output_type": "execute_result"
    },
    {
     "data": {
      "image/png": "[encoded data removed]",
      "text/plain": [
       "<Figure size 432x288 with 1 Axes>"
      ]
     },
     "metadata": {
      "needs_background": "light"
     },
     "output_type": "display_data"
    }
   ],
   "source": [
    "%matplotlib inline\n",
    "import matplotlib.pyplot as plt\n",
    "elbo_train_set = trainer.history[\"elbo_train_set\"]\n",
    "x = np.linspace(0, 500, (len(elbo_train_set)))\n",
    "plt.plot(x, elbo_train_set)\n",
    "# plt.ylim(1150, 1600)"
   ]
  },
  {
   "cell_type": "code",
   "execution_count": 20,
   "metadata": {},
   "outputs": [],
   "source": [
    "full = trainer.create_posterior(trainer.model, cm, indices=np.arange(len(cm)))\n",
    "latent, batch_indices, labels = full.sequential().get_latent()"
   ]
  },
  {
   "cell_type": "code",
   "execution_count": 28,
   "metadata": {},
   "outputs": [
    {
     "data": {
      "text/plain": [
       "Index(['AAACATTGACGACT-1', 'AAACATTGACGGGA-1', 'AAACATTGCCGCTT-1',\n",
       "       'AAACATTGCTCATT-1', 'AAACCGTGCCCTCA-1', 'AAACCGTGCCTTTA-1',\n",
       "       'AAACCGTGCGAATC-1', 'AAACGCACTTGTGG-1', 'AAACGCTGCTTAGG-1',\n",
       "       'AAACGCTGGTGAGG-1',\n",
       "       ...\n",
       "       'TTTGACTGATGTCG-6', 'TTTGACTGGAAGGC-6', 'TTTGACTGTCCGTC-6',\n",
       "       'TTTGCATGAAAACG-6', 'TTTGCATGAAGGGC-6', 'TTTGCATGCACTAG-6',\n",
       "       'TTTGCATGCCGAAT-6', 'TTTGCATGGAGGTG-6', 'TTTGCATGGATAAG-6',\n",
       "       'TTTGCATGGGCATT-6'],\n",
       "      dtype='object', name='barcode', length=33148)"
      ]
     },
     "execution_count": 28,
     "metadata": {},
     "output_type": "execute_result"
    }
   ],
   "source": [
    "cm_ann.obs.index"
   ]
  },
  {
   "cell_type": "code",
   "execution_count": 31,
   "metadata": {},
   "outputs": [],
   "source": [
    "import anndata\n",
    "\n",
    "post_adata = anndata.AnnData(X=cm.X)\n",
    "post_adata.obsm[\"X_scVI\"] = latent\n",
    "post_adata.obs['batch']=batch_indices\n",
    "post_adata.obs['barcode']=cm_ann.obs.index\n",
    "post_adata.var['gene_names']=cm.gene_names"
   ]
  },
  {
   "cell_type": "code",
   "execution_count": 37,
   "metadata": {},
   "outputs": [
    {
     "name": "stderr",
     "output_type": "stream",
     "text": [
      "/home/derek/miniconda3/envs/py-ds-scanpy-2/lib/python3.8/site-packages/numba/typed_passes.py:292: NumbaPerformanceWarning: \n",
      "The keyword argument 'parallel=True' was specified but no transformation for parallel execution was possible.\n",
      "\n",
      "To find out why, try turning on parallel diagnostics, see http://numba.pydata.org/numba-doc/latest/user/parallel.html#diagnostics for help.\n",
      "\n",
      "File \"../../../../../miniconda3/envs/py-ds-scanpy-2/lib/python3.8/site-packages/umap/nndescent.py\", line 47:\n",
      "    @numba.njit(parallel=True)\n",
      "    def nn_descent(\n",
      "    ^\n",
      "\n",
      "  warnings.warn(errors.NumbaPerformanceWarning(msg,\n"
     ]
    }
   ],
   "source": [
    "sc.pp.neighbors(post_adata, use_rep=\"X_scVI\", n_neighbors=15, metric='minkowski')\n",
    "sc.tl.umap(post_adata, min_dist=0.3)"
   ]
  },
  {
   "cell_type": "code",
   "execution_count": 39,
   "metadata": {},
   "outputs": [
    {
     "data": {
      "image/png": "[encoded data removed]",
      "text/plain": [
       "<Figure size 504x432 with 2 Axes>"
      ]
     },
     "metadata": {
      "needs_background": "light"
     },
     "output_type": "display_data"
    }
   ],
   "source": [
    "fig, ax = plt.subplots(figsize=(7, 6))\n",
    "sc.pl.umap(post_adata, color=[\"batch\"], \n",
    "           ax=ax, palette=sc.pl.palettes.vega_20_scanpy)"
   ]
  },
  {
   "cell_type": "code",
   "execution_count": 40,
   "metadata": {},
   "outputs": [
    {
     "data": {
      "image/png": "[encoded data removed]",
      "text/plain": [
       "<Figure size 432x288 with 1 Axes>"
      ]
     },
     "metadata": {},
     "output_type": "display_data"
    }
   ],
   "source": [
    "sc.tl.leiden(post_adata, resolution=0.8, key_added='leiden', random_state=10)\n",
    "sc.pl.umap(post_adata, color=['leiden'],\n",
    "          palette=sc.pl.palettes.vega_20_scanpy)"
   ]
  },
  {
   "cell_type": "code",
   "execution_count": 41,
   "metadata": {},
   "outputs": [
    {
     "data": {
      "text/plain": [
       "AnnData object with n_obs × n_vars = 33148 × 4000 \n",
       "    obs: 'batch', 'barcode', 'leiden'\n",
       "    var: 'gene_names'\n",
       "    uns: 'neighbors', 'leiden', 'leiden_colors'\n",
       "    obsm: 'X_scVI', 'X_umap'"
      ]
     },
     "execution_count": 41,
     "metadata": {},
     "output_type": "execute_result"
    }
   ],
   "source": [
    "post_adata"
   ]
  },
  {
   "cell_type": "code",
   "execution_count": 53,
   "metadata": {},
   "outputs": [
    {
     "data": {
      "text/plain": [
       "array([-5.7744403,  1.3417668,  7.136123 , ...,  4.6739144, -2.2287292,\n",
       "       -0.7180145], dtype=float32)"
      ]
     },
     "execution_count": 53,
     "metadata": {},
     "output_type": "execute_result"
    }
   ],
   "source": [
    "post_adata.obsm['X_umap'][:,0]"
   ]
  },
  {
   "cell_type": "code",
   "execution_count": 52,
   "metadata": {},
   "outputs": [
    {
     "data": {
      "text/plain": [
       "0        2\n",
       "1        6\n",
       "2        5\n",
       "3        4\n",
       "4        3\n",
       "        ..\n",
       "33143    4\n",
       "33144    7\n",
       "33145    5\n",
       "33146    4\n",
       "33147    4\n",
       "Name: leiden, Length: 33148, dtype: category\n",
       "Categories (15, object): [0, 1, 2, 3, ..., 11, 12, 13, 14]"
      ]
     },
     "execution_count": 52,
     "metadata": {},
     "output_type": "execute_result"
    }
   ],
   "source": [
    "post_adata.obs['leiden']"
   ]
  },
  {
   "cell_type": "code",
   "execution_count": 58,
   "metadata": {},
   "outputs": [],
   "source": [
    "import pandas as pd\n",
    "res_df = pd.DataFrame({\n",
    "    'barcode':post_adata.obs['barcode'],\n",
    "    'umap_x': post_adata.obsm['X_umap'][:,0],\n",
    "    'umap_y': post_adata.obsm['X_umap'][:,1],\n",
    "    'leiden': post_adata.obs['leiden']\n",
    "})"
   ]
  },
  {
   "cell_type": "code",
   "execution_count": 64,
   "metadata": {},
   "outputs": [],
   "source": [
    "cellType_df = pd.read_csv(OUT_DIR + 'pbmc33k_identities.csv',\n",
    "                          names = ['barcode', 'cellTypes'],\n",
    "                          skiprows=1)"
   ]
  },
  {
   "cell_type": "code",
   "execution_count": 65,
   "metadata": {},
   "outputs": [
    {
     "data": {
      "text/html": [
       "<div>\n",
       "<style scoped>\n",
       "    .dataframe tbody tr th:only-of-type {\n",
       "        vertical-align: middle;\n",
       "    }\n",
       "\n",
       "    .dataframe tbody tr th {\n",
       "        vertical-align: top;\n",
       "    }\n",
       "\n",
       "    .dataframe thead th {\n",
       "        text-align: right;\n",
       "    }\n",
       "</style>\n",
       "<table border=\"1\" class=\"dataframe\">\n",
       "  <thead>\n",
       "    <tr style=\"text-align: right;\">\n",
       "      <th></th>\n",
       "      <th>barcode</th>\n",
       "      <th>cellTypes</th>\n",
       "    </tr>\n",
       "  </thead>\n",
       "  <tbody>\n",
       "    <tr>\n",
       "      <th>0</th>\n",
       "      <td>AAACCGTGCCTTTA-1</td>\n",
       "      <td>CD4_Memory</td>\n",
       "    </tr>\n",
       "    <tr>\n",
       "      <th>1</th>\n",
       "      <td>AAACGCTGGTGAGG-1</td>\n",
       "      <td>CD4_Memory</td>\n",
       "    </tr>\n",
       "    <tr>\n",
       "      <th>2</th>\n",
       "      <td>AAACGGCTTACAGC-1</td>\n",
       "      <td>CD4_Memory</td>\n",
       "    </tr>\n",
       "    <tr>\n",
       "      <th>3</th>\n",
       "      <td>AAACTTGAGTGCTA-1</td>\n",
       "      <td>CD4_Memory</td>\n",
       "    </tr>\n",
       "    <tr>\n",
       "      <th>4</th>\n",
       "      <td>AAAGACGAGGTTCA-1</td>\n",
       "      <td>CD4_Memory</td>\n",
       "    </tr>\n",
       "    <tr>\n",
       "      <th>...</th>\n",
       "      <td>...</td>\n",
       "      <td>...</td>\n",
       "    </tr>\n",
       "    <tr>\n",
       "      <th>29594</th>\n",
       "      <td>CGTTAACTCTTATC-6</td>\n",
       "      <td>pDC</td>\n",
       "    </tr>\n",
       "    <tr>\n",
       "      <th>29595</th>\n",
       "      <td>GAGGGTGAAAGGCG-6</td>\n",
       "      <td>pDC</td>\n",
       "    </tr>\n",
       "    <tr>\n",
       "      <th>29596</th>\n",
       "      <td>TCCTAATGCACTGA-6</td>\n",
       "      <td>pDC</td>\n",
       "    </tr>\n",
       "    <tr>\n",
       "      <th>29597</th>\n",
       "      <td>TCTAACTGAGGAGC-6</td>\n",
       "      <td>pDC</td>\n",
       "    </tr>\n",
       "    <tr>\n",
       "      <th>29598</th>\n",
       "      <td>TTAGTCACCGCCTT-6</td>\n",
       "      <td>pDC</td>\n",
       "    </tr>\n",
       "  </tbody>\n",
       "</table>\n",
       "<p>29599 rows × 2 columns</p>\n",
       "</div>"
      ],
      "text/plain": [
       "                barcode   cellTypes\n",
       "0      AAACCGTGCCTTTA-1  CD4_Memory\n",
       "1      AAACGCTGGTGAGG-1  CD4_Memory\n",
       "2      AAACGGCTTACAGC-1  CD4_Memory\n",
       "3      AAACTTGAGTGCTA-1  CD4_Memory\n",
       "4      AAAGACGAGGTTCA-1  CD4_Memory\n",
       "...                 ...         ...\n",
       "29594  CGTTAACTCTTATC-6         pDC\n",
       "29595  GAGGGTGAAAGGCG-6         pDC\n",
       "29596  TCCTAATGCACTGA-6         pDC\n",
       "29597  TCTAACTGAGGAGC-6         pDC\n",
       "29598  TTAGTCACCGCCTT-6         pDC\n",
       "\n",
       "[29599 rows x 2 columns]"
      ]
     },
     "execution_count": 65,
     "metadata": {},
     "output_type": "execute_result"
    }
   ],
   "source": [
    "cellType_df"
   ]
  },
  {
   "cell_type": "code",
   "execution_count": 66,
   "metadata": {},
   "outputs": [
    {
     "data": {
      "text/html": [
       "<div>\n",
       "<style scoped>\n",
       "    .dataframe tbody tr th:only-of-type {\n",
       "        vertical-align: middle;\n",
       "    }\n",
       "\n",
       "    .dataframe tbody tr th {\n",
       "        vertical-align: top;\n",
       "    }\n",
       "\n",
       "    .dataframe thead th {\n",
       "        text-align: right;\n",
       "    }\n",
       "</style>\n",
       "<table border=\"1\" class=\"dataframe\">\n",
       "  <thead>\n",
       "    <tr style=\"text-align: right;\">\n",
       "      <th></th>\n",
       "      <th>barcode</th>\n",
       "      <th>umap_x</th>\n",
       "      <th>umap_y</th>\n",
       "      <th>leiden</th>\n",
       "    </tr>\n",
       "  </thead>\n",
       "  <tbody>\n",
       "    <tr>\n",
       "      <th>0</th>\n",
       "      <td>AAACATTGACGACT-1</td>\n",
       "      <td>-5.774440</td>\n",
       "      <td>3.322953</td>\n",
       "      <td>2</td>\n",
       "    </tr>\n",
       "    <tr>\n",
       "      <th>1</th>\n",
       "      <td>AAACATTGACGGGA-1</td>\n",
       "      <td>1.341767</td>\n",
       "      <td>7.570275</td>\n",
       "      <td>6</td>\n",
       "    </tr>\n",
       "    <tr>\n",
       "      <th>2</th>\n",
       "      <td>AAACATTGCCGCTT-1</td>\n",
       "      <td>7.136123</td>\n",
       "      <td>0.342699</td>\n",
       "      <td>5</td>\n",
       "    </tr>\n",
       "    <tr>\n",
       "      <th>3</th>\n",
       "      <td>AAACATTGCTCATT-1</td>\n",
       "      <td>-2.083978</td>\n",
       "      <td>5.076027</td>\n",
       "      <td>4</td>\n",
       "    </tr>\n",
       "    <tr>\n",
       "      <th>4</th>\n",
       "      <td>AAACCGTGCCCTCA-1</td>\n",
       "      <td>-1.163432</td>\n",
       "      <td>-8.375448</td>\n",
       "      <td>3</td>\n",
       "    </tr>\n",
       "    <tr>\n",
       "      <th>...</th>\n",
       "      <td>...</td>\n",
       "      <td>...</td>\n",
       "      <td>...</td>\n",
       "      <td>...</td>\n",
       "    </tr>\n",
       "    <tr>\n",
       "      <th>33143</th>\n",
       "      <td>TTTGCATGCACTAG-6</td>\n",
       "      <td>-0.200745</td>\n",
       "      <td>3.783253</td>\n",
       "      <td>4</td>\n",
       "    </tr>\n",
       "    <tr>\n",
       "      <th>33144</th>\n",
       "      <td>TTTGCATGCCGAAT-6</td>\n",
       "      <td>-2.152617</td>\n",
       "      <td>5.332825</td>\n",
       "      <td>7</td>\n",
       "    </tr>\n",
       "    <tr>\n",
       "      <th>33145</th>\n",
       "      <td>TTTGCATGGAGGTG-6</td>\n",
       "      <td>4.673914</td>\n",
       "      <td>-0.616296</td>\n",
       "      <td>5</td>\n",
       "    </tr>\n",
       "    <tr>\n",
       "      <th>33146</th>\n",
       "      <td>TTTGCATGGATAAG-6</td>\n",
       "      <td>-2.228729</td>\n",
       "      <td>3.092213</td>\n",
       "      <td>4</td>\n",
       "    </tr>\n",
       "    <tr>\n",
       "      <th>33147</th>\n",
       "      <td>TTTGCATGGGCATT-6</td>\n",
       "      <td>-0.718014</td>\n",
       "      <td>4.279577</td>\n",
       "      <td>4</td>\n",
       "    </tr>\n",
       "  </tbody>\n",
       "</table>\n",
       "<p>33148 rows × 4 columns</p>\n",
       "</div>"
      ],
      "text/plain": [
       "                barcode    umap_x    umap_y leiden\n",
       "0      AAACATTGACGACT-1 -5.774440  3.322953      2\n",
       "1      AAACATTGACGGGA-1  1.341767  7.570275      6\n",
       "2      AAACATTGCCGCTT-1  7.136123  0.342699      5\n",
       "3      AAACATTGCTCATT-1 -2.083978  5.076027      4\n",
       "4      AAACCGTGCCCTCA-1 -1.163432 -8.375448      3\n",
       "...                 ...       ...       ...    ...\n",
       "33143  TTTGCATGCACTAG-6 -0.200745  3.783253      4\n",
       "33144  TTTGCATGCCGAAT-6 -2.152617  5.332825      7\n",
       "33145  TTTGCATGGAGGTG-6  4.673914 -0.616296      5\n",
       "33146  TTTGCATGGATAAG-6 -2.228729  3.092213      4\n",
       "33147  TTTGCATGGGCATT-6 -0.718014  4.279577      4\n",
       "\n",
       "[33148 rows x 4 columns]"
      ]
     },
     "execution_count": 66,
     "metadata": {},
     "output_type": "execute_result"
    }
   ],
   "source": [
    "res_df"
   ]
  },
  {
   "cell_type": "code",
   "execution_count": 82,
   "metadata": {},
   "outputs": [],
   "source": [
    "new_res_df = res_df.set_index('barcode').join(cellType_df.set_index('barcode'), how='left')\n",
    "new_res_df = new_res_df.reset_index()"
   ]
  },
  {
   "cell_type": "code",
   "execution_count": 83,
   "metadata": {},
   "outputs": [
    {
     "data": {
      "text/plain": [
       "leiden  cellTypes   \n",
       "0       B_Pre              2\n",
       "        B_Pro              0\n",
       "        CD4_Memory      5104\n",
       "        CD4_Naive        910\n",
       "        CD8_Effector       1\n",
       "                        ... \n",
       "14      Mono_CD14          0\n",
       "        Mono_CD16          0\n",
       "        NK_Bright          0\n",
       "        NK_Dim             0\n",
       "        pDC                0\n",
       "Name: barcode, Length: 210, dtype: int64"
      ]
     },
     "execution_count": 83,
     "metadata": {},
     "output_type": "execute_result"
    }
   ],
   "source": [
    "new_res_df.groupby(['leiden','cellTypes'])['barcode'].count()"
   ]
  },
  {
   "cell_type": "code",
   "execution_count": 88,
   "metadata": {},
   "outputs": [
    {
     "data": {
      "text/html": [
       "<div>\n",
       "<style scoped>\n",
       "    .dataframe tbody tr th:only-of-type {\n",
       "        vertical-align: middle;\n",
       "    }\n",
       "\n",
       "    .dataframe tbody tr th {\n",
       "        vertical-align: top;\n",
       "    }\n",
       "\n",
       "    .dataframe thead th {\n",
       "        text-align: right;\n",
       "    }\n",
       "</style>\n",
       "<table border=\"1\" class=\"dataframe\">\n",
       "  <thead>\n",
       "    <tr style=\"text-align: right;\">\n",
       "      <th></th>\n",
       "      <th>leiden</th>\n",
       "      <th>cellTypes</th>\n",
       "      <th>barcode</th>\n",
       "    </tr>\n",
       "  </thead>\n",
       "  <tbody>\n",
       "    <tr>\n",
       "      <th>0</th>\n",
       "      <td>0</td>\n",
       "      <td>B_Pre</td>\n",
       "      <td>2</td>\n",
       "    </tr>\n",
       "    <tr>\n",
       "      <th>1</th>\n",
       "      <td>0</td>\n",
       "      <td>B_Pro</td>\n",
       "      <td>0</td>\n",
       "    </tr>\n",
       "    <tr>\n",
       "      <th>2</th>\n",
       "      <td>0</td>\n",
       "      <td>CD4_Memory</td>\n",
       "      <td>5104</td>\n",
       "    </tr>\n",
       "    <tr>\n",
       "      <th>3</th>\n",
       "      <td>0</td>\n",
       "      <td>CD4_Naive</td>\n",
       "      <td>910</td>\n",
       "    </tr>\n",
       "    <tr>\n",
       "      <th>4</th>\n",
       "      <td>0</td>\n",
       "      <td>CD8_Effector</td>\n",
       "      <td>1</td>\n",
       "    </tr>\n",
       "    <tr>\n",
       "      <th>...</th>\n",
       "      <td>...</td>\n",
       "      <td>...</td>\n",
       "      <td>...</td>\n",
       "    </tr>\n",
       "    <tr>\n",
       "      <th>205</th>\n",
       "      <td>14</td>\n",
       "      <td>Mono_CD14</td>\n",
       "      <td>0</td>\n",
       "    </tr>\n",
       "    <tr>\n",
       "      <th>206</th>\n",
       "      <td>14</td>\n",
       "      <td>Mono_CD16</td>\n",
       "      <td>0</td>\n",
       "    </tr>\n",
       "    <tr>\n",
       "      <th>207</th>\n",
       "      <td>14</td>\n",
       "      <td>NK_Bright</td>\n",
       "      <td>0</td>\n",
       "    </tr>\n",
       "    <tr>\n",
       "      <th>208</th>\n",
       "      <td>14</td>\n",
       "      <td>NK_Dim</td>\n",
       "      <td>0</td>\n",
       "    </tr>\n",
       "    <tr>\n",
       "      <th>209</th>\n",
       "      <td>14</td>\n",
       "      <td>pDC</td>\n",
       "      <td>0</td>\n",
       "    </tr>\n",
       "  </tbody>\n",
       "</table>\n",
       "<p>210 rows × 3 columns</p>\n",
       "</div>"
      ],
      "text/plain": [
       "    leiden     cellTypes  barcode\n",
       "0        0         B_Pre        2\n",
       "1        0         B_Pro        0\n",
       "2        0    CD4_Memory     5104\n",
       "3        0     CD4_Naive      910\n",
       "4        0  CD8_Effector        1\n",
       "..     ...           ...      ...\n",
       "205     14     Mono_CD14        0\n",
       "206     14     Mono_CD16        0\n",
       "207     14     NK_Bright        0\n",
       "208     14        NK_Dim        0\n",
       "209     14           pDC        0\n",
       "\n",
       "[210 rows x 3 columns]"
      ]
     },
     "execution_count": 88,
     "metadata": {},
     "output_type": "execute_result"
    }
   ],
   "source": [
    "x = new_res_df.groupby(['leiden','cellTypes'])['barcode'].count()\n",
    "x = x.reset_index()\n",
    "x['leiden'] = x['leiden'].astype(int)\n",
    "x.loc[x['leiden']==14,:]"
   ]
  },
  {
   "cell_type": "code",
   "execution_count": 116,
   "metadata": {},
   "outputs": [
    {
     "data": {
      "text/html": [
       "<div>\n",
       "<style scoped>\n",
       "    .dataframe tbody tr th:only-of-type {\n",
       "        vertical-align: middle;\n",
       "    }\n",
       "\n",
       "    .dataframe tbody tr th {\n",
       "        vertical-align: top;\n",
       "    }\n",
       "\n",
       "    .dataframe thead th {\n",
       "        text-align: right;\n",
       "    }\n",
       "</style>\n",
       "<table border=\"1\" class=\"dataframe\">\n",
       "  <thead>\n",
       "    <tr style=\"text-align: right;\">\n",
       "      <th></th>\n",
       "      <th>leiden</th>\n",
       "      <th>cellTypes</th>\n",
       "      <th>barcode</th>\n",
       "      <th>cluster</th>\n",
       "    </tr>\n",
       "  </thead>\n",
       "  <tbody>\n",
       "    <tr>\n",
       "      <th>0</th>\n",
       "      <td>0</td>\n",
       "      <td>B_Pre</td>\n",
       "      <td>2</td>\n",
       "      <td>T cells</td>\n",
       "    </tr>\n",
       "    <tr>\n",
       "      <th>1</th>\n",
       "      <td>0</td>\n",
       "      <td>B_Pro</td>\n",
       "      <td>0</td>\n",
       "      <td>T cells</td>\n",
       "    </tr>\n",
       "    <tr>\n",
       "      <th>2</th>\n",
       "      <td>0</td>\n",
       "      <td>CD4_Memory</td>\n",
       "      <td>5104</td>\n",
       "      <td>T cells</td>\n",
       "    </tr>\n",
       "    <tr>\n",
       "      <th>3</th>\n",
       "      <td>0</td>\n",
       "      <td>CD4_Naive</td>\n",
       "      <td>910</td>\n",
       "      <td>T cells</td>\n",
       "    </tr>\n",
       "    <tr>\n",
       "      <th>4</th>\n",
       "      <td>0</td>\n",
       "      <td>CD8_Effector</td>\n",
       "      <td>1</td>\n",
       "      <td>T cells</td>\n",
       "    </tr>\n",
       "    <tr>\n",
       "      <th>...</th>\n",
       "      <td>...</td>\n",
       "      <td>...</td>\n",
       "      <td>...</td>\n",
       "      <td>...</td>\n",
       "    </tr>\n",
       "    <tr>\n",
       "      <th>205</th>\n",
       "      <td>14</td>\n",
       "      <td>Mono_CD14</td>\n",
       "      <td>0</td>\n",
       "      <td>NA</td>\n",
       "    </tr>\n",
       "    <tr>\n",
       "      <th>206</th>\n",
       "      <td>14</td>\n",
       "      <td>Mono_CD16</td>\n",
       "      <td>0</td>\n",
       "      <td>NA</td>\n",
       "    </tr>\n",
       "    <tr>\n",
       "      <th>207</th>\n",
       "      <td>14</td>\n",
       "      <td>NK_Bright</td>\n",
       "      <td>0</td>\n",
       "      <td>NA</td>\n",
       "    </tr>\n",
       "    <tr>\n",
       "      <th>208</th>\n",
       "      <td>14</td>\n",
       "      <td>NK_Dim</td>\n",
       "      <td>0</td>\n",
       "      <td>NA</td>\n",
       "    </tr>\n",
       "    <tr>\n",
       "      <th>209</th>\n",
       "      <td>14</td>\n",
       "      <td>pDC</td>\n",
       "      <td>0</td>\n",
       "      <td>NA</td>\n",
       "    </tr>\n",
       "  </tbody>\n",
       "</table>\n",
       "<p>210 rows × 4 columns</p>\n",
       "</div>"
      ],
      "text/plain": [
       "     leiden     cellTypes  barcode  cluster\n",
       "0         0         B_Pre        2  T cells\n",
       "1         0         B_Pro        0  T cells\n",
       "2         0    CD4_Memory     5104  T cells\n",
       "3         0     CD4_Naive      910  T cells\n",
       "4         0  CD8_Effector        1  T cells\n",
       "..      ...           ...      ...      ...\n",
       "205      14     Mono_CD14        0       NA\n",
       "206      14     Mono_CD16        0       NA\n",
       "207      14     NK_Bright        0       NA\n",
       "208      14        NK_Dim        0       NA\n",
       "209      14           pDC        0       NA\n",
       "\n",
       "[210 rows x 4 columns]"
      ]
     },
     "execution_count": 116,
     "metadata": {},
     "output_type": "execute_result"
    }
   ],
   "source": [
    "def set_cluster(row):\n",
    "    cluster = ['T cells', 'Monocytes', 'T cells', 'B cells', 'T cells', # 0-4\n",
    "               'Monocytes', 'NK', 'T cells', 'T cells', 'NA', # 5-9\n",
    "               'T cells', 'NA', 'NA', 'NA', 'NA'] # 10-14\n",
    "    return cluster[row['leiden']]\n",
    "x['cluster'] = x.apply(set_cluster, axis=1)\n",
    "x"
   ]
  },
  {
   "cell_type": "code",
   "execution_count": 119,
   "metadata": {},
   "outputs": [
    {
     "data": {
      "text/html": [
       "<div>\n",
       "<style scoped>\n",
       "    .dataframe tbody tr th:only-of-type {\n",
       "        vertical-align: middle;\n",
       "    }\n",
       "\n",
       "    .dataframe tbody tr th {\n",
       "        vertical-align: top;\n",
       "    }\n",
       "\n",
       "    .dataframe thead th {\n",
       "        text-align: right;\n",
       "    }\n",
       "</style>\n",
       "<table border=\"1\" class=\"dataframe\">\n",
       "  <thead>\n",
       "    <tr style=\"text-align: right;\">\n",
       "      <th></th>\n",
       "      <th>barcode</th>\n",
       "      <th>umap_x</th>\n",
       "      <th>umap_y</th>\n",
       "      <th>leiden</th>\n",
       "    </tr>\n",
       "  </thead>\n",
       "  <tbody>\n",
       "    <tr>\n",
       "      <th>0</th>\n",
       "      <td>AAACATTGACGACT-1</td>\n",
       "      <td>-5.774440</td>\n",
       "      <td>3.322953</td>\n",
       "      <td>2</td>\n",
       "    </tr>\n",
       "    <tr>\n",
       "      <th>1</th>\n",
       "      <td>AAACATTGACGGGA-1</td>\n",
       "      <td>1.341767</td>\n",
       "      <td>7.570275</td>\n",
       "      <td>6</td>\n",
       "    </tr>\n",
       "    <tr>\n",
       "      <th>2</th>\n",
       "      <td>AAACATTGCCGCTT-1</td>\n",
       "      <td>7.136123</td>\n",
       "      <td>0.342699</td>\n",
       "      <td>5</td>\n",
       "    </tr>\n",
       "    <tr>\n",
       "      <th>3</th>\n",
       "      <td>AAACATTGCTCATT-1</td>\n",
       "      <td>-2.083978</td>\n",
       "      <td>5.076027</td>\n",
       "      <td>4</td>\n",
       "    </tr>\n",
       "    <tr>\n",
       "      <th>4</th>\n",
       "      <td>AAACCGTGCCCTCA-1</td>\n",
       "      <td>-1.163432</td>\n",
       "      <td>-8.375448</td>\n",
       "      <td>3</td>\n",
       "    </tr>\n",
       "    <tr>\n",
       "      <th>...</th>\n",
       "      <td>...</td>\n",
       "      <td>...</td>\n",
       "      <td>...</td>\n",
       "      <td>...</td>\n",
       "    </tr>\n",
       "    <tr>\n",
       "      <th>33143</th>\n",
       "      <td>TTTGCATGCACTAG-6</td>\n",
       "      <td>-0.200745</td>\n",
       "      <td>3.783253</td>\n",
       "      <td>4</td>\n",
       "    </tr>\n",
       "    <tr>\n",
       "      <th>33144</th>\n",
       "      <td>TTTGCATGCCGAAT-6</td>\n",
       "      <td>-2.152617</td>\n",
       "      <td>5.332825</td>\n",
       "      <td>7</td>\n",
       "    </tr>\n",
       "    <tr>\n",
       "      <th>33145</th>\n",
       "      <td>TTTGCATGGAGGTG-6</td>\n",
       "      <td>4.673914</td>\n",
       "      <td>-0.616296</td>\n",
       "      <td>5</td>\n",
       "    </tr>\n",
       "    <tr>\n",
       "      <th>33146</th>\n",
       "      <td>TTTGCATGGATAAG-6</td>\n",
       "      <td>-2.228729</td>\n",
       "      <td>3.092213</td>\n",
       "      <td>4</td>\n",
       "    </tr>\n",
       "    <tr>\n",
       "      <th>33147</th>\n",
       "      <td>TTTGCATGGGCATT-6</td>\n",
       "      <td>-0.718014</td>\n",
       "      <td>4.279577</td>\n",
       "      <td>4</td>\n",
       "    </tr>\n",
       "  </tbody>\n",
       "</table>\n",
       "<p>33148 rows × 4 columns</p>\n",
       "</div>"
      ],
      "text/plain": [
       "                barcode    umap_x    umap_y leiden\n",
       "0      AAACATTGACGACT-1 -5.774440  3.322953      2\n",
       "1      AAACATTGACGGGA-1  1.341767  7.570275      6\n",
       "2      AAACATTGCCGCTT-1  7.136123  0.342699      5\n",
       "3      AAACATTGCTCATT-1 -2.083978  5.076027      4\n",
       "4      AAACCGTGCCCTCA-1 -1.163432 -8.375448      3\n",
       "...                 ...       ...       ...    ...\n",
       "33143  TTTGCATGCACTAG-6 -0.200745  3.783253      4\n",
       "33144  TTTGCATGCCGAAT-6 -2.152617  5.332825      7\n",
       "33145  TTTGCATGGAGGTG-6  4.673914 -0.616296      5\n",
       "33146  TTTGCATGGATAAG-6 -2.228729  3.092213      4\n",
       "33147  TTTGCATGGGCATT-6 -0.718014  4.279577      4\n",
       "\n",
       "[33148 rows x 4 columns]"
      ]
     },
     "execution_count": 119,
     "metadata": {},
     "output_type": "execute_result"
    }
   ],
   "source": [
    "res_df"
   ]
  },
  {
   "cell_type": "code",
   "execution_count": 121,
   "metadata": {},
   "outputs": [
    {
     "data": {
      "text/html": [
       "<div>\n",
       "<style scoped>\n",
       "    .dataframe tbody tr th:only-of-type {\n",
       "        vertical-align: middle;\n",
       "    }\n",
       "\n",
       "    .dataframe tbody tr th {\n",
       "        vertical-align: top;\n",
       "    }\n",
       "\n",
       "    .dataframe thead th {\n",
       "        text-align: right;\n",
       "    }\n",
       "</style>\n",
       "<table border=\"1\" class=\"dataframe\">\n",
       "  <thead>\n",
       "    <tr style=\"text-align: right;\">\n",
       "      <th></th>\n",
       "      <th>barcode</th>\n",
       "      <th>umap_x</th>\n",
       "      <th>umap_y</th>\n",
       "      <th>leiden</th>\n",
       "      <th>cluster</th>\n",
       "    </tr>\n",
       "  </thead>\n",
       "  <tbody>\n",
       "    <tr>\n",
       "      <th>0</th>\n",
       "      <td>AAACATTGACGACT-1</td>\n",
       "      <td>-5.774440</td>\n",
       "      <td>3.322953</td>\n",
       "      <td>2</td>\n",
       "      <td>T cells</td>\n",
       "    </tr>\n",
       "    <tr>\n",
       "      <th>1</th>\n",
       "      <td>AAACATTGACGGGA-1</td>\n",
       "      <td>1.341767</td>\n",
       "      <td>7.570275</td>\n",
       "      <td>6</td>\n",
       "      <td>NK</td>\n",
       "    </tr>\n",
       "    <tr>\n",
       "      <th>2</th>\n",
       "      <td>AAACATTGCCGCTT-1</td>\n",
       "      <td>7.136123</td>\n",
       "      <td>0.342699</td>\n",
       "      <td>5</td>\n",
       "      <td>Monocytes</td>\n",
       "    </tr>\n",
       "    <tr>\n",
       "      <th>3</th>\n",
       "      <td>AAACATTGCTCATT-1</td>\n",
       "      <td>-2.083978</td>\n",
       "      <td>5.076027</td>\n",
       "      <td>4</td>\n",
       "      <td>T cells</td>\n",
       "    </tr>\n",
       "    <tr>\n",
       "      <th>4</th>\n",
       "      <td>AAACCGTGCCCTCA-1</td>\n",
       "      <td>-1.163432</td>\n",
       "      <td>-8.375448</td>\n",
       "      <td>3</td>\n",
       "      <td>B cells</td>\n",
       "    </tr>\n",
       "    <tr>\n",
       "      <th>...</th>\n",
       "      <td>...</td>\n",
       "      <td>...</td>\n",
       "      <td>...</td>\n",
       "      <td>...</td>\n",
       "      <td>...</td>\n",
       "    </tr>\n",
       "    <tr>\n",
       "      <th>33143</th>\n",
       "      <td>TTTGCATGCACTAG-6</td>\n",
       "      <td>-0.200745</td>\n",
       "      <td>3.783253</td>\n",
       "      <td>4</td>\n",
       "      <td>T cells</td>\n",
       "    </tr>\n",
       "    <tr>\n",
       "      <th>33144</th>\n",
       "      <td>TTTGCATGCCGAAT-6</td>\n",
       "      <td>-2.152617</td>\n",
       "      <td>5.332825</td>\n",
       "      <td>7</td>\n",
       "      <td>T cells</td>\n",
       "    </tr>\n",
       "    <tr>\n",
       "      <th>33145</th>\n",
       "      <td>TTTGCATGGAGGTG-6</td>\n",
       "      <td>4.673914</td>\n",
       "      <td>-0.616296</td>\n",
       "      <td>5</td>\n",
       "      <td>Monocytes</td>\n",
       "    </tr>\n",
       "    <tr>\n",
       "      <th>33146</th>\n",
       "      <td>TTTGCATGGATAAG-6</td>\n",
       "      <td>-2.228729</td>\n",
       "      <td>3.092213</td>\n",
       "      <td>4</td>\n",
       "      <td>T cells</td>\n",
       "    </tr>\n",
       "    <tr>\n",
       "      <th>33147</th>\n",
       "      <td>TTTGCATGGGCATT-6</td>\n",
       "      <td>-0.718014</td>\n",
       "      <td>4.279577</td>\n",
       "      <td>4</td>\n",
       "      <td>T cells</td>\n",
       "    </tr>\n",
       "  </tbody>\n",
       "</table>\n",
       "<p>33148 rows × 5 columns</p>\n",
       "</div>"
      ],
      "text/plain": [
       "                barcode    umap_x    umap_y  leiden    cluster\n",
       "0      AAACATTGACGACT-1 -5.774440  3.322953       2    T cells\n",
       "1      AAACATTGACGGGA-1  1.341767  7.570275       6         NK\n",
       "2      AAACATTGCCGCTT-1  7.136123  0.342699       5  Monocytes\n",
       "3      AAACATTGCTCATT-1 -2.083978  5.076027       4    T cells\n",
       "4      AAACCGTGCCCTCA-1 -1.163432 -8.375448       3    B cells\n",
       "...                 ...       ...       ...     ...        ...\n",
       "33143  TTTGCATGCACTAG-6 -0.200745  3.783253       4    T cells\n",
       "33144  TTTGCATGCCGAAT-6 -2.152617  5.332825       7    T cells\n",
       "33145  TTTGCATGGAGGTG-6  4.673914 -0.616296       5  Monocytes\n",
       "33146  TTTGCATGGATAAG-6 -2.228729  3.092213       4    T cells\n",
       "33147  TTTGCATGGGCATT-6 -0.718014  4.279577       4    T cells\n",
       "\n",
       "[33148 rows x 5 columns]"
      ]
     },
     "execution_count": 121,
     "metadata": {},
     "output_type": "execute_result"
    }
   ],
   "source": [
    "res_df['leiden'] = res_df['leiden'].astype(int)\n",
    "res_df['cluster'] = res_df.apply(set_cluster, axis=1)\n",
    "res_df.to_csv(OUT_DIR + 'scvi-embedding.csv', index = False)\n",
    "res_df"
   ]
  }
 ],
 "metadata": {
  "kernelspec": {
   "display_name": "Python 3",
   "language": "python",
   "name": "python3"
  },
  "language_info": {
   "codemirror_mode": {
    "name": "ipython",
    "version": 3
   },
   "file_extension": ".py",
   "mimetype": "text/x-python",
   "name": "python",
   "nbconvert_exporter": "python",
   "pygments_lexer": "ipython3",
   "version": "3.8.2"
  }
 },
 "nbformat": 4,
 "nbformat_minor": 4
}
