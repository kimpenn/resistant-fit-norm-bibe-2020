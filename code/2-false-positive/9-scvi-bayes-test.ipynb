{
 "cells": [
  {
   "cell_type": "code",
   "execution_count": 1,
   "metadata": {},
   "outputs": [
    {
     "name": "stderr",
     "output_type": "stream",
     "text": [
      "/home/derek/miniconda3/envs/py-ds-scanpy-2/lib/python3.8/site-packages/anndata/core/anndata.py:17: FutureWarning: pandas.core.index is deprecated and will be removed in a future version.  The public classes are available in the top-level namespace.\n",
      "  from pandas.core.index import RangeIndex\n"
     ]
    }
   ],
   "source": [
    "import numpy as np\n",
    "import numpy.random as random\n",
    "import pandas as pd\n",
    "import scanpy as sc\n",
    "import anndata\n",
    "\n",
    "import torch\n",
    "from scvi.dataset.dataset import GeneExpressionDataset\n",
    "from scvi.inference import UnsupervisedTrainer, load_posterior\n",
    "from scvi.models import SCANVI, VAE\n",
    "import scipy.io as sio\n",
    "from scipy.sparse import coo_matrix\n",
    "import os\n",
    "from umap import UMAP\n",
    "\n",
    "PRJ_DIR = \"/home/derek/research/Kim-Lab/normalization-simulation/\"\n",
    "IN_DIR = PRJ_DIR + \"data/pbmc-33k/filtered_gene_bc_matrices/hg19/\"\n",
    "OUT_DIR = PRJ_DIR + \"exp/exp-12/out/\""
   ]
  },
  {
   "cell_type": "code",
   "execution_count": 2,
   "metadata": {},
   "outputs": [],
   "source": [
    "cell_type_list = [\"CD4_Memory\", \"CD4_Naive\", \"Mono_CD14\", \"B_Pre\",\n",
    "                  \"CD8_Memory\", \"CD8_Naive\", \"NK_Dim\", \"Mono_CD16\",\n",
    "                  \"CD8_Effector\", \"B_Pro\", \"DC\", \"NK_Bright\", \"Mk\", \"pDC\"]\n",
    "cell_type_idx = 10\n",
    "# bayes = 2.3\n",
    "bayes = 3"
   ]
  },
  {
   "cell_type": "code",
   "execution_count": 3,
   "metadata": {},
   "outputs": [
    {
     "name": "stdout",
     "output_type": "stream",
     "text": [
      "working on DC\n"
     ]
    }
   ],
   "source": [
    "file_prefix = cell_type_list[cell_type_idx]\n",
    "print(f'working on {file_prefix}')\n",
    "file_name = OUT_DIR + file_prefix + '-cm.mm'\n",
    "counts_sparse = sio.mmread(file_name)\n",
    "counts = counts_sparse.toarray().astype('float64')\n",
    "\n",
    "file_name = OUT_DIR + file_prefix + '-ident.csv'\n",
    "batch_list = pd.read_csv(file_name)"
   ]
  },
  {
   "cell_type": "code",
   "execution_count": 4,
   "metadata": {},
   "outputs": [],
   "source": [
    "from scvi.dataset import AnnDatasetFromAnnData\n",
    "adata = anndata.AnnData(X=counts.T)\n",
    "adata.obs['group'] = batch_list['x'].to_numpy()\n",
    "\n",
    "adata.obs['group'] = adata.obs['group'].replace({'group1': 0, 'group2': 1})\n",
    "adata.obs['group'] = adata.obs['group'].astype(int)\n",
    "sc.pp.filter_genes(adata, min_cells=5)"
   ]
  },
  {
   "cell_type": "code",
   "execution_count": 5,
   "metadata": {},
   "outputs": [
    {
     "name": "stdout",
     "output_type": "stream",
     "text": [
      "[2020-07-11 15:06:24,128] INFO - scvi.dataset.dataset | Remapping batch_indices to [0,N]\n",
      "[2020-07-11 15:06:24,129] INFO - scvi.dataset.dataset | Remapping labels to [0,N]\n",
      "[2020-07-11 15:06:24,143] INFO - scvi.dataset.dataset | Computing the library size for the new data\n",
      "[2020-07-11 15:06:24,145] INFO - scvi.dataset.dataset | Downsampled from 204 to 204 cells\n"
     ]
    },
    {
     "data": {
      "text/plain": [
       "GeneExpressionDataset object with n_cells x nb_genes = 204 x 6265\n",
       "    gene_attribute_names: 'gene_names', 'n_cells'\n",
       "    cell_attribute_names: 'batch_indices', 'labels', 'group', 'local_means', 'local_vars'\n",
       "    cell_categorical_attribute_names: 'batch_indices', 'labels'"
      ]
     },
     "execution_count": 5,
     "metadata": {},
     "output_type": "execute_result"
    }
   ],
   "source": [
    "cm = AnnDatasetFromAnnData(adata)\n",
    "cm"
   ]
  },
  {
   "cell_type": "code",
   "execution_count": 6,
   "metadata": {},
   "outputs": [],
   "source": [
    "n_epochs = 400\n",
    "n_de = 4000"
   ]
  },
  {
   "cell_type": "code",
   "execution_count": 7,
   "metadata": {},
   "outputs": [
    {
     "name": "stdout",
     "output_type": "stream",
     "text": [
      "[2020-07-11 15:06:24,156] INFO - scvi.dataset.dataset | extracting highly variable genes using seurat_v3 flavor\n"
     ]
    },
    {
     "name": "stderr",
     "output_type": "stream",
     "text": [
      "Transforming to str index.\n"
     ]
    },
    {
     "name": "stdout",
     "output_type": "stream",
     "text": [
      "[2020-07-11 15:06:24,233] INFO - scvi.dataset.dataset | Downsampling from 6265 to 4000 genes\n",
      "[2020-07-11 15:06:24,255] INFO - scvi.dataset.dataset | Computing the library size for the new data\n",
      "[2020-07-11 15:06:24,261] INFO - scvi.dataset.dataset | Filtering non-expressing cells.\n",
      "[2020-07-11 15:06:24,284] INFO - scvi.dataset.dataset | Computing the library size for the new data\n",
      "[2020-07-11 15:06:24,287] INFO - scvi.dataset.dataset | Downsampled from 204 to 204 cells\n"
     ]
    }
   ],
   "source": [
    "cm.subsample_genes(n_de)"
   ]
  },
  {
   "cell_type": "code",
   "execution_count": 8,
   "metadata": {},
   "outputs": [
    {
     "name": "stdout",
     "output_type": "stream",
     "text": [
      "Reading from /home/derek/research/Kim-Lab/normalization-simulation/exp/exp-12/out/8-DC-full_posterior...\n",
      "[2020-07-11 15:06:24,366] INFO - scvi.dataset.dataset | Remapping batch_indices to [0,N]\n",
      "[2020-07-11 15:06:24,366] INFO - scvi.dataset.dataset | Remapping labels to [0,N]\n",
      "[2020-07-11 15:06:24,374] INFO - scvi.dataset.dataset | Computing the library size for the new data\n",
      "[2020-07-11 15:06:24,375] INFO - scvi.dataset.dataset | Downsampled from 204 to 204 cells\n"
     ]
    }
   ],
   "source": [
    "# loading step\n",
    "use_cuda = True\n",
    "vae = VAE(cm.nb_genes, n_batch=0, n_labels=0,\n",
    "          n_hidden=128, n_layers=1, n_latent=10, dispersion='gene')\n",
    "file_name = f'8-{file_prefix}-full_posterior'\n",
    "save_dir = os.path.join(OUT_DIR, file_name)\n",
    "print(f'Reading from {save_dir}...')\n",
    "full = load_posterior(dir_path=save_dir,\n",
    "                      model=vae,\n",
    "                      use_cuda=use_cuda,\n",
    "                      )"
   ]
  },
  {
   "cell_type": "code",
   "execution_count": 9,
   "metadata": {},
   "outputs": [
    {
     "data": {
      "text/plain": [
       "1"
      ]
     },
     "execution_count": 9,
     "metadata": {},
     "output_type": "execute_result"
    }
   ],
   "source": [
    "idx1 = adata.obs['group'] == 0\n",
    "idx2 = adata.obs['group'] == 1\n",
    "n_samples = 100\n",
    "M_permutation = 100000\n",
    "\n",
    "n_de = 0\n",
    "for i in range(30):\n",
    "    marker = full.differential_expression_score(idx1, idx2,\n",
    "                                                n_samples=n_samples,\n",
    "                                                M_permutation=M_permutation)\n",
    "    n_de = n_de + np.sum(np.logical_or(marker['bayes_factor'] > bayes,\n",
    "                                       marker['bayes_factor'] < -bayes))\n",
    "\n",
    "res = int(n_de/30) if (n_de % 30 < 0.5) else int(n_de/30) + 1\n",
    "res"
   ]
  }
 ],
 "metadata": {
  "kernelspec": {
   "display_name": "Python 3",
   "language": "python",
   "name": "python3"
  },
  "language_info": {
   "codemirror_mode": {
    "name": "ipython",
    "version": 3
   },
   "file_extension": ".py",
   "mimetype": "text/x-python",
   "name": "python",
   "nbconvert_exporter": "python",
   "pygments_lexer": "ipython3",
   "version": "3.8.2"
  }
 },
 "nbformat": 4,
 "nbformat_minor": 4
}
