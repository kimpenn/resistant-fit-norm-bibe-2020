{
 "cells": [
  {
   "cell_type": "code",
   "execution_count": 71,
   "metadata": {},
   "outputs": [],
   "source": [
    "import numpy as np\n",
    "import numpy.random as random\n",
    "import pandas as pd\n",
    "import scanpy as sc\n",
    "import anndata\n",
    "\n",
    "import torch\n",
    "from scvi.dataset.dataset import GeneExpressionDataset\n",
    "from scvi.inference import UnsupervisedTrainer\n",
    "from scvi.models import SCANVI, VAE\n",
    "import scipy.io as sio\n",
    "from scipy.sparse import coo_matrix\n",
    "import os\n",
    "from umap import UMAP\n",
    "\n",
    "PRJ_DIR = \"/home/derek/research/Kim-Lab/normalization-simulation/\"\n",
    "IN_DIR = PRJ_DIR + \"data/pbmc-33k/filtered_gene_bc_matrices/hg19/\"\n",
    "OUT_DIR = PRJ_DIR + \"exp/exp-12/out/\""
   ]
  },
  {
   "cell_type": "code",
   "execution_count": 72,
   "metadata": {},
   "outputs": [],
   "source": [
    "cell_type_list = [\"CD4_Memory\", \"CD4_Naive\", \"Mono_CD14\", \"B_Pre\",\n",
    "                  \"CD8_Memory\", \"CD8_Naive\", \"NK_Dim\", \"Mono_CD16\",\n",
    "                  \"CD8_Effector\", \"B_Pro\", \"DC\", \"NK_Bright\", \"Mk\", \"pDC\"]\n",
    "cell_type_idx = -2"
   ]
  },
  {
   "cell_type": "code",
   "execution_count": 73,
   "metadata": {},
   "outputs": [
    {
     "name": "stdout",
     "output_type": "stream",
     "text": [
      "working on CD8_Naive\n"
     ]
    }
   ],
   "source": [
    "file_prefix = cell_type_list[cell_type_idx]\n",
    "print(f'working on {file_prefix}')\n",
    "file_name = OUT_DIR + file_prefix + '-cm.mm'\n",
    "counts_sparse = sio.mmread(file_name)\n",
    "counts = counts_sparse.toarray().astype('float64')\n",
    "\n",
    "file_name = OUT_DIR + file_prefix + '-ident.csv'\n",
    "batch_list = pd.read_csv(file_name)"
   ]
  },
  {
   "cell_type": "code",
   "execution_count": 74,
   "metadata": {},
   "outputs": [],
   "source": [
    "from scvi.dataset import AnnDatasetFromAnnData\n",
    "adata = anndata.AnnData(X=counts.T)\n",
    "adata.obs['group'] = batch_list['x'].to_numpy()\n",
    "\n",
    "adata.obs['group'] = adata.obs['group'].replace({'group1': 0, 'group2': 1})\n",
    "adata.obs['group'] = adata.obs['group'].astype(int)\n",
    "sc.pp.filter_genes(adata, min_cells=5)"
   ]
  },
  {
   "cell_type": "code",
   "execution_count": 75,
   "metadata": {},
   "outputs": [
    {
     "name": "stdout",
     "output_type": "stream",
     "text": [
      "[2020-07-11 01:21:02,195] INFO - scvi.dataset.dataset | Remapping batch_indices to [0,N]\n",
      "[2020-07-11 01:21:02,196] INFO - scvi.dataset.dataset | Remapping labels to [0,N]\n",
      "[2020-07-11 01:21:02,427] INFO - scvi.dataset.dataset | Computing the library size for the new data\n",
      "[2020-07-11 01:21:02,453] INFO - scvi.dataset.dataset | Downsampled from 1917 to 1917 cells\n"
     ]
    },
    {
     "data": {
      "text/plain": [
       "GeneExpressionDataset object with n_cells x nb_genes = 1917 x 10356\n",
       "    gene_attribute_names: 'n_cells', 'gene_names'\n",
       "    cell_attribute_names: 'batch_indices', 'local_vars', 'group', 'labels', 'local_means'\n",
       "    cell_categorical_attribute_names: 'batch_indices', 'labels'"
      ]
     },
     "execution_count": 75,
     "metadata": {},
     "output_type": "execute_result"
    }
   ],
   "source": [
    "cm = AnnDatasetFromAnnData(adata)\n",
    "cm"
   ]
  },
  {
   "cell_type": "code",
   "execution_count": 76,
   "metadata": {},
   "outputs": [],
   "source": [
    "n_epochs = 400\n",
    "n_de = 4000"
   ]
  },
  {
   "cell_type": "code",
   "execution_count": 77,
   "metadata": {},
   "outputs": [
    {
     "name": "stdout",
     "output_type": "stream",
     "text": [
      "[2020-07-11 01:21:02,469] INFO - scvi.dataset.dataset | extracting highly variable genes using seurat_v3 flavor\n"
     ]
    },
    {
     "name": "stderr",
     "output_type": "stream",
     "text": [
      "Transforming to str index.\n"
     ]
    },
    {
     "name": "stdout",
     "output_type": "stream",
     "text": [
      "[2020-07-11 01:21:02,769] INFO - scvi.dataset.dataset | Downsampling from 10356 to 4000 genes\n",
      "[2020-07-11 01:21:02,870] INFO - scvi.dataset.dataset | Computing the library size for the new data\n",
      "[2020-07-11 01:21:02,889] INFO - scvi.dataset.dataset | Filtering non-expressing cells.\n",
      "[2020-07-11 01:21:02,988] INFO - scvi.dataset.dataset | Computing the library size for the new data\n",
      "[2020-07-11 01:21:02,995] INFO - scvi.dataset.dataset | Downsampled from 1917 to 1917 cells\n"
     ]
    }
   ],
   "source": [
    "cm.subsample_genes(n_de)"
   ]
  },
  {
   "cell_type": "code",
   "execution_count": 78,
   "metadata": {},
   "outputs": [],
   "source": [
    "use_cuda = True\n",
    "\n",
    "vae = VAE(cm.nb_genes, n_batch=0, n_labels=0,\n",
    "          n_hidden=128, n_layers=1, n_latent=10, dispersion='gene')\n",
    "\n",
    "trainer = UnsupervisedTrainer(\n",
    "    vae, cm,\n",
    "    train_size=1.0,\n",
    "    batch_size=128,\n",
    "    use_cuda=use_cuda,\n",
    "    n_epochs_kl_warmup=100,\n",
    "    frequency=10\n",
    ")"
   ]
  },
  {
   "cell_type": "code",
   "execution_count": 79,
   "metadata": {},
   "outputs": [
    {
     "name": "stdout",
     "output_type": "stream",
     "text": [
      "[2020-07-11 01:21:03,132] INFO - scvi.inference.inference | KL warmup for 100 epochs\n"
     ]
    },
    {
     "data": {
      "application/vnd.jupyter.widget-view+json": {
       "model_id": "1874a472df5f40d1b18406c34ed432ee",
       "version_major": 2,
       "version_minor": 0
      },
      "text/plain": [
       "HBox(children=(FloatProgress(value=0.0, description='training', max=400.0, style=ProgressStyle(description_wid…"
      ]
     },
     "metadata": {},
     "output_type": "display_data"
    },
    {
     "name": "stdout",
     "output_type": "stream",
     "text": [
      "\n",
      "CPU times: user 13min 22s, sys: 9.27 s, total: 13min 31s\n",
      "Wall time: 1min 41s\n"
     ]
    }
   ],
   "source": [
    "%%time\n",
    "trainer.train(n_epochs=n_epochs)"
   ]
  },
  {
   "cell_type": "code",
   "execution_count": 80,
   "metadata": {},
   "outputs": [
    {
     "data": {
      "text/plain": [
       "[<matplotlib.lines.Line2D at 0x7f3122318be0>]"
      ]
     },
     "execution_count": 80,
     "metadata": {},
     "output_type": "execute_result"
    },
    {
     "data": {
      "image/png": "[encoded data removed]",
      "text/plain": [
       "<Figure size 432x288 with 1 Axes>"
      ]
     },
     "metadata": {
      "needs_background": "light"
     },
     "output_type": "display_data"
    }
   ],
   "source": [
    "%matplotlib inline\n",
    "import matplotlib.pyplot as plt\n",
    "elbo_train_set = trainer.history[\"elbo_train_set\"]\n",
    "x = np.linspace(0, 500, (len(elbo_train_set)))\n",
    "plt.plot(x, elbo_train_set)\n",
    "# plt.ylim(1150, 1600)"
   ]
  },
  {
   "cell_type": "code",
   "execution_count": 81,
   "metadata": {},
   "outputs": [],
   "source": [
    "full = trainer.create_posterior(trainer.model,\n",
    "                                cm, indices=np.arange(len(cm)))"
   ]
  },
  {
   "cell_type": "code",
   "execution_count": 82,
   "metadata": {},
   "outputs": [
    {
     "data": {
      "text/plain": [
       "17"
      ]
     },
     "execution_count": 82,
     "metadata": {},
     "output_type": "execute_result"
    }
   ],
   "source": [
    "idx1 = adata.obs['group'] == 0\n",
    "idx2 = adata.obs['group'] == 1\n",
    "n_samples = 100\n",
    "M_permutation = 100000\n",
    "\n",
    "n_de = 0\n",
    "for i in range(30):\n",
    "    marker = full.differential_expression_score(idx1, idx2,\n",
    "                                                n_samples=n_samples,\n",
    "                                                M_permutation=M_permutation)\n",
    "    n_de = n_de + np.sum(np.logical_or(marker['bayes_factor'] > 2.3,\n",
    "                                       marker['bayes_factor'] < -2.3))\n",
    "\n",
    "res = int(n_de/30) if (n_de % 30 < 0.5) else int(n_de/30) + 1\n",
    "res"
   ]
  },
  {
   "cell_type": "code",
   "execution_count": 83,
   "metadata": {},
   "outputs": [
    {
     "name": "stderr",
     "output_type": "stream",
     "text": [
      "Transforming to str index.\n",
      "... storing 'cell_types' as categorical\n"
     ]
    },
    {
     "name": "stdout",
     "output_type": "stream",
     "text": [
      "writing to /home/derek/research/Kim-Lab/normalization-simulation/exp/exp-12/out/8-CD8_Naive-full_posterior...\n",
      "writing to /home/derek/research/Kim-Lab/normalization-simulation/exp/exp-12/out/8-CD8_Naive-marker.csv...\n"
     ]
    },
    {
     "name": "stderr",
     "output_type": "stream",
     "text": [
      "/home/derek/miniconda3/envs/py-ds-scanpy-2/lib/python3.8/site-packages/pandas/core/generic.py:2490: PerformanceWarning: \n",
      "your performance may suffer as PyTables will pickle object types that it cannot\n",
      "map directly to c-types [inferred_type->mixed-integer,key->values] [items->None]\n",
      "\n",
      "  pytables.to_hdf(\n"
     ]
    }
   ],
   "source": [
    "file_name = OUT_DIR + '8-' + file_prefix + \"-full_posterior\"\n",
    "if not os.path.isfile(file_name):\n",
    "    print(f'writing to {file_name}...')\n",
    "    full.save_posterior(file_name)\n",
    "\n",
    "file_name = OUT_DIR + '8-' + file_prefix + \"-marker.csv\"\n",
    "if not os.path.isfile(file_name):\n",
    "    print(f'writing to {file_name}...')\n",
    "    marker.to_csv(file_name)"
   ]
  },
  {
   "cell_type": "code",
   "execution_count": 84,
   "metadata": {},
   "outputs": [],
   "source": [
    "# # loading step (in a new session)\n",
    "# retrieved_model = VAE(gene_dataset.nb_genes)  # uninitialized model\n",
    "# save_dir = os.path.join(save_path, \"full_posterior\")\n",
    "\n",
    "# retrieved_full = load_posterior(\n",
    "#     dir_path=save_dir,\n",
    "#     model=retrieved_model,\n",
    "#     use_cuda=use_cuda,\n",
    "# )"
   ]
  }
 ],
 "metadata": {
  "kernelspec": {
   "display_name": "Python 3",
   "language": "python",
   "name": "python3"
  },
  "language_info": {
   "codemirror_mode": {
    "name": "ipython",
    "version": 3
   },
   "file_extension": ".py",
   "mimetype": "text/x-python",
   "name": "python",
   "nbconvert_exporter": "python",
   "pygments_lexer": "ipython3",
   "version": "3.8.2"
  }
 },
 "nbformat": 4,
 "nbformat_minor": 4
}
